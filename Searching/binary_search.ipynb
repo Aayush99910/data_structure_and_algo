{
 "cells": [
  {
   "cell_type": "markdown",
   "metadata": {},
   "source": [
    "Binary Search"
   ]
  },
  {
   "cell_type": "markdown",
   "metadata": {},
   "source": [
    "- Time complexity of binary Search is nlog(n) + log(n) \n",
    "- Time complexity of Linear Search is O(n)\n",
    "\n",
    "But when we are looping over a huge array then there is a phenomenon called ammortized cost.\n",
    "\n",
    "Generally for an small array we have the formula for binary search as nlog(n) + log(n) and the relation of binary and linear search is:\n",
    "nlog(n) + log(n) > O(n)\n",
    "\n",
    "When we loop over a huge array the relation changes that is:\n",
    "1 * nlog(n) + k * log(n) < k * O(n)\n",
    "\n",
    "- We only do the sorting once but we do the searching k times.\n",
    "Hence the final equation when the array is huge is k * log(n) < k * O(n)"
   ]
  },
  {
   "cell_type": "code",
   "execution_count": 1,
   "metadata": {},
   "outputs": [],
   "source": [
    "# Implementation of Binary Search \n",
    "def binary_search(arr, low, high, item):\n",
    "    # base case\n",
    "    if (low <= high):\n",
    "        # search for the item \n",
    "        midpoint = (low + high) // 2 # integer division\n",
    "\n",
    "        # if the given item is greater than the middle item then \n",
    "        # we search from midpoint + 1 to the high index position\n",
    "        if (arr[midpoint] < item):\n",
    "            return binary_search(arr, midpoint + 1, high, item)\n",
    "        # if the given item is less than the middle item then we\n",
    "        # search from low to the midpoint - 1 index position\n",
    "        elif (arr[midpoint] > item):\n",
    "            return binary_search(arr, low, midpoint - 1, item)\n",
    "        else:\n",
    "            return midpoint\n",
    "    else:\n",
    "        return -1 "
   ]
  },
  {
   "cell_type": "code",
   "execution_count": 2,
   "metadata": {},
   "outputs": [
    {
     "data": {
      "text/plain": [
       "-1"
      ]
     },
     "execution_count": 2,
     "metadata": {},
     "output_type": "execute_result"
    }
   ],
   "source": [
    "arr1 = [1, 2, 3, 4, 5, 6, 7, 8, 9, 10]\n",
    "binary_search(arr1, 0, len(arr1) - 1, 100)"
   ]
  },
  {
   "cell_type": "code",
   "execution_count": 17,
   "metadata": {},
   "outputs": [
    {
     "name": "stdout",
     "output_type": "stream",
     "text": [
      "  *****    *****\n",
      " *******  *******\n",
      "******************\n",
      "*******************\n",
      " *****************\n",
      "  ***************\n",
      "   *************\n",
      "    ***********\n",
      "     *********\n",
      "      *******\n",
      "       *****\n",
      "        ***\n",
      "         *\n",
      "\n"
     ]
    }
   ],
   "source": [
    "n = 10\n",
    "string = \"\"\n",
    "\n",
    "i = n / 2\n",
    "while (i < n):\n",
    "    j = 1\n",
    "    while (j < n - i):\n",
    "        string += \" \"\n",
    "        j += 2\n",
    "    \n",
    "    j = 1\n",
    "    while (j < i + 1):\n",
    "        string += \"*\"\n",
    "        j += 1\n",
    "    \n",
    "    j = 1\n",
    "    while (j < n - i):\n",
    "        string += \" \"\n",
    "        j +=1\n",
    "    \n",
    "    j = 1\n",
    "    while (j < i + 1):\n",
    "        string += \"*\"\n",
    "        j += 1\n",
    "    \n",
    "    string += \"\\n\"\n",
    "    i += 2\n",
    "\n",
    "i = n\n",
    "while (i > 0):\n",
    "    j = 0\n",
    "    while (j < n - i):\n",
    "        string += \" \"\n",
    "        j += 1\n",
    "    \n",
    "    j = 1\n",
    "    while (j < i * 2):\n",
    "        string += \"*\"\n",
    "        j += 1\n",
    "\n",
    "    string += \"\\n\"\n",
    "    i -= 1\n",
    "\n",
    "print(string)"
   ]
  },
  {
   "cell_type": "code",
   "execution_count": null,
   "metadata": {},
   "outputs": [],
   "source": []
  }
 ],
 "metadata": {
  "kernelspec": {
   "display_name": "Python 3",
   "language": "python",
   "name": "python3"
  },
  "language_info": {
   "codemirror_mode": {
    "name": "ipython",
    "version": 3
   },
   "file_extension": ".py",
   "mimetype": "text/x-python",
   "name": "python",
   "nbconvert_exporter": "python",
   "pygments_lexer": "ipython3",
   "version": "undefined.undefined.undefined"
  }
 },
 "nbformat": 4,
 "nbformat_minor": 2
}
