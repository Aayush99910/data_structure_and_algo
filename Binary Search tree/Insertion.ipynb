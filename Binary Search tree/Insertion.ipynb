{
 "cells": [
  {
   "cell_type": "markdown",
   "metadata": {},
   "source": [
    "To insert into a binary tree we need to make sure that the property is held true. The property is that every values on the sub tree in the left should be less than current node's value and every values on the sub tree in the right should be greater than current node's value. "
   ]
  },
  {
   "cell_type": "markdown",
   "metadata": {},
   "source": [
    "We will write the class for a node:"
   ]
  },
  {
   "cell_type": "code",
   "execution_count": 1,
   "metadata": {},
   "outputs": [],
   "source": [
    "class Node: \n",
    "  def __init__(self, value):\n",
    "    self.value = value \n",
    "    self.left = None\n",
    "    self.right = None"
   ]
  },
  {
   "cell_type": "markdown",
   "metadata": {},
   "source": [
    "Now we will write the code to insert a value in a binary tree."
   ]
  },
  {
   "cell_type": "code",
   "execution_count": 2,
   "metadata": {},
   "outputs": [],
   "source": [
    "class BinarySearchTree: \n",
    "  def __init__(self, root: Node): \n",
    "    self.root = root\n",
    "\n",
    "  def insert_node(self, rootNode, value: int):\n",
    "    # base case \n",
    "    if (rootNode == None):\n",
    "      return Node(value)\n",
    "\n",
    "    if (rootNode.value < value):\n",
    "      rootNode.right = self.insert_node(rootNode.right, value)\n",
    "    else:\n",
    "      rootNode.left = self.insert_node(rootNode.left, value)\n",
    "\n",
    "    return rootNode \n"
   ]
  },
  {
   "cell_type": "code",
   "execution_count": 5,
   "metadata": {},
   "outputs": [],
   "source": [
    "def main():\n",
    "  node_root = Node(12)\n",
    "  b = BinarySearchTree(node_root)\n",
    "  b.insert_node(node_root, 15)\n",
    "  b.insert_node(node_root, 5)\n",
    "\n",
    "main()\n",
    "\n",
    "\n"
   ]
  }
 ],
 "metadata": {
  "kernelspec": {
   "display_name": "Python 3",
   "language": "python",
   "name": "python3"
  },
  "language_info": {
   "codemirror_mode": {
    "name": "ipython",
    "version": 3
   },
   "file_extension": ".py",
   "mimetype": "text/x-python",
   "name": "python",
   "nbconvert_exporter": "python",
   "pygments_lexer": "ipython3",
   "version": "3.11.3"
  }
 },
 "nbformat": 4,
 "nbformat_minor": 2
}
