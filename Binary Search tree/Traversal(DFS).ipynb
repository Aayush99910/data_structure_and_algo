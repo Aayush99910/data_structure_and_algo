{
 "cells": [
  {
   "cell_type": "code",
   "execution_count": 1,
   "metadata": {},
   "outputs": [],
   "source": [
    "class Node: \n",
    "  def __init__(self, value):\n",
    "    self.value = value \n",
    "    self.left = None\n",
    "    self.right = None\n",
    "  \n",
    "class BinarySearchTree: \n",
    "  def __init__(self, root: Node): \n",
    "    self.root = root\n",
    "\n",
    "  def inorder(self, root) -> None:\n",
    "    if (not root):\n",
    "      return None \n",
    "\n",
    "    self.inorder(root.left)\n",
    "    print(root.value)\n",
    "    self.inorder(root.right)\n",
    "\n",
    "  def preorder(self, root) -> None: \n",
    "    if (not root):\n",
    "      return None \n",
    "    \n",
    "    print(root.value)\n",
    "    self.preorder(root.left)\n",
    "    self.preorder(root.right)\n",
    "\n",
    "  def postOrder(self, root) -> None: \n",
    "    if (not root):\n",
    "      return None \n",
    "\n",
    "    self.postOrder(root.left)\n",
    "    self.postOrder(root.right)\n",
    "    print(root.value)\n",
    "\n",
    "  def reverseOrder(self, root) -> None: \n",
    "    if (not root):\n",
    "      return None \n",
    "    \n",
    "    self.reverseOrder(root.right)\n",
    "    print(root.value)\n",
    "    self.reverseOrder(root.left)\n"
   ]
  }
 ],
 "metadata": {
  "kernelspec": {
   "display_name": "Python 3",
   "language": "python",
   "name": "python3"
  },
  "language_info": {
   "codemirror_mode": {
    "name": "ipython",
    "version": 3
   },
   "file_extension": ".py",
   "mimetype": "text/x-python",
   "name": "python",
   "nbconvert_exporter": "python",
   "pygments_lexer": "ipython3",
   "version": "3.11.3"
  }
 },
 "nbformat": 4,
 "nbformat_minor": 2
}
