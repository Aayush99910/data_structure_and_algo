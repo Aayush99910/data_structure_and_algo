{
 "cells": [
  {
   "cell_type": "code",
   "execution_count": 1,
   "metadata": {},
   "outputs": [],
   "source": [
    "from collections import deque\n",
    "\n",
    "class Node: \n",
    "  def __init__(self, value):\n",
    "    self.value = value \n",
    "    self.left = None\n",
    "    self.right = None\n",
    "  \n",
    "class BinarySearchTree: \n",
    "  def __init__(self, root: Node): \n",
    "    self.root = root\n",
    "\n",
    "  def breathFirstSearch(self, root) -> None:\n",
    "    queue = deque() \n",
    "\n",
    "    if (root):\n",
    "      queue.append(root)\n",
    "    \n",
    "    level = 0 \n",
    "    while (len(queue) > 0):\n",
    "      print(\"Level: \", level)\n",
    "      for i in range(len(queue)):\n",
    "        curr = queue.popleft()\n",
    "        print(curr.value) \n",
    "\n",
    "        if (curr.left): \n",
    "          queue.append(curr.left)\n",
    "        if (curr.right):\n",
    "          queue.append(curr.right)\n",
    "          \n",
    "      level += 1"
   ]
  },
  {
   "cell_type": "code",
   "execution_count": null,
   "metadata": {},
   "outputs": [],
   "source": [
    "b = BinarySearchTree() \n",
    "b."
   ]
  }
 ],
 "metadata": {
  "kernelspec": {
   "display_name": "Python 3",
   "language": "python",
   "name": "python3"
  },
  "language_info": {
   "codemirror_mode": {
    "name": "ipython",
    "version": 3
   },
   "file_extension": ".py",
   "mimetype": "text/x-python",
   "name": "python",
   "nbconvert_exporter": "python",
   "pygments_lexer": "ipython3",
   "version": "3.11.3"
  }
 },
 "nbformat": 4,
 "nbformat_minor": 2
}
