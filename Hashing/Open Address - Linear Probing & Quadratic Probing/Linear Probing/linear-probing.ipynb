{
 "cells": [
  {
   "cell_type": "markdown",
   "metadata": {},
   "source": [
    "# Linear probing"
   ]
  },
  {
   "cell_type": "markdown",
   "metadata": {},
   "source": [
    "We make a class dictionary and we make a constructor which has size, slots array and data array."
   ]
  },
  {
   "cell_type": "code",
   "execution_count": 138,
   "metadata": {},
   "outputs": [],
   "source": [
    "class Dictionary:\n",
    "    def __init__(self, size):\n",
    "        self.size = size\n",
    "        self.slots = [None] * self.size \n",
    "        self.data = [None] * self.size "
   ]
  },
  {
   "cell_type": "markdown",
   "metadata": {},
   "source": [
    "Methods"
   ]
  },
  {
   "cell_type": "markdown",
   "metadata": {},
   "source": [
    "hash\n",
    "- Returns the hash of a key"
   ]
  },
  {
   "cell_type": "code",
   "execution_count": 139,
   "metadata": {},
   "outputs": [],
   "source": [
    "def hash_function(self, key):\n",
    "    return abs(hash(key)) % self.size"
   ]
  },
  {
   "cell_type": "markdown",
   "metadata": {},
   "source": [
    "rehash\n",
    "- re-calculates the hash value"
   ]
  },
  {
   "cell_type": "code",
   "execution_count": 140,
   "metadata": {},
   "outputs": [],
   "source": [
    "def rehash(self, old_hash):\n",
    "    return (old_hash + 1) % self.size"
   ]
  },
  {
   "cell_type": "markdown",
   "metadata": {},
   "source": [
    "put\n",
    "\n",
    "We are given keys and values and do hashing on keys and put the keys in the slots array and value in data array.\n",
    "\n",
    "- it has two parameters: key and value \n",
    "\n",
    "We calculate the hash value by using our hash function on the key\n",
    "We use the built in function hash()\n",
    "Then we check if the slot is empty or not on that particular index \n",
    "\n",
    "There are two cases here:\n",
    "- If the slot is empty we put the key on the slots array and we put the value on the data array\n",
    "- else the same data exists on the index position or there is a different data on the index position\n",
    "\n",
    "There are two cases on this else:\n",
    "- if the same data exists then we just replace the value of that key \n",
    "- else we search for an single empty space after that index position\n",
    "\n",
    "There are two cases on this else too:\n",
    "- we need to calculate the hash value until we either find a none space or we find the same key and we replace data"
   ]
  },
  {
   "cell_type": "code",
   "execution_count": 141,
   "metadata": {},
   "outputs": [],
   "source": [
    "def put(self, key, value):\n",
    "        # calculating the hash value by using hash function \n",
    "        hash_value = self.hash_function(key)\n",
    "        \n",
    "        # if the index position is empty we put the key in the corresponding\n",
    "        # slot position and value in corresponding data position\n",
    "        if (self.slots[hash_value] == None):\n",
    "            self.slots[hash_value] = key\n",
    "            self.data[hash_value] = value \n",
    "        else:\n",
    "            # same key exists or there is a different data on the index position\n",
    "\n",
    "            if (self.slots[hash_value] == key):\n",
    "                self.data[hash_value] = value \n",
    "            else:\n",
    "                # we search for a single empty space after the index position with new_hash_value\n",
    "                new_hash_value = self.rehash(hash_value)\n",
    "\n",
    "                while (self.slots[new_hash_value] != None and self.slots[new_hash_value] != key):\n",
    "                    new_hash_value = self.rehash(new_hash_value) \n",
    "\n",
    "                \n",
    "                # we have None in that position\n",
    "                if (self.slots[new_hash_value] == None):\n",
    "                    self.slots[new_hash_value] = key\n",
    "                    self.data[new_hash_value] = value \n",
    "                else:\n",
    "                    self.data[new_hash_value] = value "
   ]
  },
  {
   "cell_type": "markdown",
   "metadata": {},
   "source": [
    "get \n",
    "\n",
    "We have three condition \n",
    "- we will find the key in the first hashing\n",
    "- we will loop through all the keys and we dont find any None values and we reach the start position - Item not found\n",
    "- we will find a None value but we dont find the key"
   ]
  },
  {
   "cell_type": "code",
   "execution_count": 142,
   "metadata": {},
   "outputs": [],
   "source": [
    "def get(self, key):\n",
    "    start_position = hash_function(key)\n",
    "    current_position = start_position\n",
    "\n",
    "    while (self.slots[current_position] != None):\n",
    "        # we check if we found the key\n",
    "        if (self.slots[current_position] == key):\n",
    "            return self.data[current_position]\n",
    "    \n",
    "        current_position = self.rehash(current_position)\n",
    "\n",
    "        if (current_position == start_position):\n",
    "            return \"Not found\"\n",
    "    \n",
    "    return \"Not Found\""
   ]
  },
  {
   "cell_type": "code",
   "execution_count": 143,
   "metadata": {},
   "outputs": [],
   "source": [
    "class Dictionary:\n",
    "    def __init__(self, size):\n",
    "        self.size = size\n",
    "        self.slots = [None] * self.size \n",
    "        self.data = [None] * self.size \n",
    "\n",
    "    def __setItem__(self, key, value):\n",
    "        self.put(key, value)\n",
    "\n",
    "    def __getItem__(self, key):\n",
    "        self.get(key)\n",
    "    \n",
    "    def __str__(self):\n",
    "        for i in range(self.size):\n",
    "            if (self.slots[i] != None):\n",
    "                print(f'\"{self.slots[i]}\":\"{self.data[i]}\"')\n",
    "    \n",
    "    def hash_function(self, key):\n",
    "        return abs(hash(key)) % self.size\n",
    "    \n",
    "    def rehash(self, old_hash):\n",
    "        return (old_hash + 1) % self.size\n",
    "\n",
    "    def put(self, key, value):\n",
    "        # calculating the hash value by using hash function \n",
    "        hash_value = self.hash_function(key)\n",
    "        \n",
    "        # if the index position is empty we put the key in the corresponding\n",
    "        # slot position and value in corresponding data position\n",
    "        if (self.slots[hash_value] == None):\n",
    "            self.slots[hash_value] = key\n",
    "            self.data[hash_value] = value \n",
    "        else:\n",
    "            # same key exists or there is a different data on the index position\n",
    "\n",
    "            if (self.slots[hash_value] == key):\n",
    "                self.data[hash_value] = value \n",
    "            else:\n",
    "                # we search for a single empty space after the index position with new_hash_value\n",
    "                new_hash_value = self.rehash(hash_value)\n",
    "\n",
    "                while (self.slots[new_hash_value] != None and self.slots[new_hash_value] != key):\n",
    "                    new_hash_value = self.rehash(new_hash_value) \n",
    "\n",
    "                \n",
    "                # we have None in that position\n",
    "                if (self.slots[new_hash_value] == None):\n",
    "                    self.slots[new_hash_value] = key\n",
    "                    self.data[new_hash_value] = value \n",
    "                else:\n",
    "                    self.data[new_hash_value] = value \n",
    "\n",
    "\n",
    "    def get(self, key):\n",
    "        start_position = self.hash_function(key)\n",
    "        current_position = start_position\n",
    "\n",
    "        while (self.slots[current_position] != None):\n",
    "            # we check if we found the key\n",
    "            if (self.slots[current_position] == key):\n",
    "                return self.data[current_position]\n",
    "        \n",
    "            current_position = self.rehash(current_position)\n",
    "\n",
    "            if (current_position == start_position):\n",
    "                return \"Not found\"\n",
    "        \n",
    "        return \"Not Found\""
   ]
  },
  {
   "cell_type": "code",
   "execution_count": 144,
   "metadata": {},
   "outputs": [
    {
     "data": {
      "text/plain": [
       "[None, None, None, 'python', None]"
      ]
     },
     "execution_count": 144,
     "metadata": {},
     "output_type": "execute_result"
    }
   ],
   "source": [
    "D1 = Dictionary(5)\n",
    "D1.put(\"python\", 1)\n",
    "D1.slots"
   ]
  },
  {
   "cell_type": "code",
   "execution_count": 145,
   "metadata": {},
   "outputs": [
    {
     "data": {
      "text/plain": [
       "[None, None, None, 1, None]"
      ]
     },
     "execution_count": 145,
     "metadata": {},
     "output_type": "execute_result"
    }
   ],
   "source": [
    "D1.data"
   ]
  },
  {
   "cell_type": "code",
   "execution_count": 146,
   "metadata": {},
   "outputs": [
    {
     "data": {
      "text/plain": [
       "[None, None, None, 'python', None]"
      ]
     },
     "execution_count": 146,
     "metadata": {},
     "output_type": "execute_result"
    }
   ],
   "source": [
    "D1.put(\"python\", 5)\n",
    "D1.slots"
   ]
  },
  {
   "cell_type": "code",
   "execution_count": 147,
   "metadata": {},
   "outputs": [
    {
     "data": {
      "text/plain": [
       "[None, None, None, 5, None]"
      ]
     },
     "execution_count": 147,
     "metadata": {},
     "output_type": "execute_result"
    }
   ],
   "source": [
    "D1.data"
   ]
  },
  {
   "cell_type": "code",
   "execution_count": 148,
   "metadata": {},
   "outputs": [],
   "source": [
    "D1.put(\"java\", 45)\n",
    "D1.put(\"c\", 1000)\n",
    "D1.put(\"php\", 800)\n",
    "D1.put(\"c++\", 79)"
   ]
  },
  {
   "cell_type": "code",
   "execution_count": 154,
   "metadata": {},
   "outputs": [
    {
     "data": {
      "text/plain": [
       "'Not found'"
      ]
     },
     "execution_count": 154,
     "metadata": {},
     "output_type": "execute_result"
    }
   ],
   "source": [
    "D1.get(\"py\")"
   ]
  }
 ],
 "metadata": {
  "kernelspec": {
   "display_name": "Python 3",
   "language": "python",
   "name": "python3"
  },
  "language_info": {
   "codemirror_mode": {
    "name": "ipython",
    "version": 3
   },
   "file_extension": ".py",
   "mimetype": "text/x-python",
   "name": "python",
   "nbconvert_exporter": "python",
   "pygments_lexer": "ipython3",
   "version": "3.11.3"
  }
 },
 "nbformat": 4,
 "nbformat_minor": 2
}
