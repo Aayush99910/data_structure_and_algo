{
 "cells": [
  {
   "cell_type": "code",
   "execution_count": 12,
   "metadata": {},
   "outputs": [],
   "source": [
    "class Stack:\n",
    "    \n",
    "    def __init__(self, value):\n",
    "        self.size = value \n",
    "        self.__stack = [None] * self.size \n",
    "        self.top = -1 \n",
    "    \n",
    "    def push(self, value):\n",
    "        # we cannot push if the array is already full\n",
    "        if self.top == self.size - 1:\n",
    "            return \"OverFlow\"\n",
    "        else:\n",
    "            self.top += 1\n",
    "            self.__stack[self.top] = value \n",
    "\n",
    "    def pop(self):\n",
    "        # we are poping the last element which is top\n",
    "        # we cannot pop if the array is empty\n",
    "        if self.top == -1:\n",
    "            return \"Empty stack\"\n",
    "        else:\n",
    "            data = self.__stack[self.top]\n",
    "            self.top -= 1\n",
    "            return data\n",
    "    \n",
    "    def traverse(self):\n",
    "        for i in range(self.top + 1):\n",
    "            print(self.__stack[i], end=\" \")"
   ]
  },
  {
   "cell_type": "code",
   "execution_count": 13,
   "metadata": {},
   "outputs": [
    {
     "name": "stdout",
     "output_type": "stream",
     "text": [
      "1 2 3 "
     ]
    }
   ],
   "source": [
    "s = Stack(5)\n",
    "s.push(1)\n",
    "s.push(2)\n",
    "s.push(3)\n",
    "s.push(4)\n",
    "s.push(5)\n",
    "s.pop()\n",
    "s.pop()\n",
    "s.traverse()"
   ]
  }
 ],
 "metadata": {
  "kernelspec": {
   "display_name": "Python 3",
   "language": "python",
   "name": "python3"
  },
  "language_info": {
   "codemirror_mode": {
    "name": "ipython",
    "version": 3
   },
   "file_extension": ".py",
   "mimetype": "text/x-python",
   "name": "python",
   "nbconvert_exporter": "python",
   "pygments_lexer": "ipython3",
   "version": "3.11.3"
  }
 },
 "nbformat": 4,
 "nbformat_minor": 2
}
