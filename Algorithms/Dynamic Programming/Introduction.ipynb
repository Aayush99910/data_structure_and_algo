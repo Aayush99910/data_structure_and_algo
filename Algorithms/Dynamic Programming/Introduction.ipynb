{
 "cells": [
  {
   "cell_type": "markdown",
   "metadata": {},
   "source": [
    "We are discussing the basic of dynamic programming. We are discussing what is the advantages and how we should approach this."
   ]
  },
  {
   "cell_type": "markdown",
   "metadata": {},
   "source": [
    "Here we have a base case and that is when n is less than or equal to 1 then we return 0 or 1 respectively. \n",
    "But if it is greater than 1 then we return fib(n - 1) plus fib(n - 2). \n",
    "\n",
    "It is very simple and intuitive but it is very slow if we have to find the large nth term. \n",
    "Therefore, we need to find a better algorithm to solve this problem. One solution that we can use is dynamic programming. "
   ]
  },
  {
   "cell_type": "code",
   "execution_count": 1,
   "metadata": {},
   "outputs": [],
   "source": [
    "# simple Example \n",
    "# nth Fibonacci Term (Recursive)\n",
    "\n",
    "# Basically fibonnaci seq is 0, 1, 1, 2, 3, 5, 8,....\n",
    "# So it is the addition of the previous two number \n",
    "# 0 + 1 = 1 \n",
    "# 1 + 1 = 2\n",
    "# 1 + 2 = 3\n",
    "# 3 + 5 = 8 \n",
    "\n",
    "def fib(n: int): \n",
    "  if (n <= 1):\n",
    "    return n \n",
    "  else:\n",
    "    return fib(n-1) + fib(n-2)"
   ]
  },
  {
   "cell_type": "markdown",
   "metadata": {},
   "source": [
    "When we calculate the fibonnaci seq of 5th term then according to this algorithm. \n",
    "We will find the fib of 3 and fib of 4. \n",
    "\n",
    "# Fib 5 --> Fib 3 and Fib 4\n",
    "\n",
    "\n",
    "-------------------------------------------------\n",
    "Left side of Fib 5: \n",
    "# Fib 3 --> fib 1 and fib 2 \n",
    "\n",
    "Left side of Fib 3:\n",
    "# Fib 1 --> return 1 \n",
    "\n",
    "Right side of Fib 3: \n",
    "# Fib 2 --> fib 0 and fib 1\n",
    "\n",
    "-------------------------------------------------\n",
    "Right side of Fib 5: \n",
    "# Fib 4 --> Fib 2 and Fib 3\n",
    "\n",
    "and it goes on...\n",
    "As you can see that this process is very slow and it is O(n^e)\n",
    "\n"
   ]
  }
 ],
 "metadata": {
  "kernelspec": {
   "display_name": "Python 3",
   "language": "python",
   "name": "python3"
  },
  "language_info": {
   "codemirror_mode": {
    "name": "ipython",
    "version": 3
   },
   "file_extension": ".py",
   "mimetype": "text/x-python",
   "name": "python",
   "nbconvert_exporter": "python",
   "pygments_lexer": "ipython3",
   "version": "3.11.3"
  }
 },
 "nbformat": 4,
 "nbformat_minor": 2
}
