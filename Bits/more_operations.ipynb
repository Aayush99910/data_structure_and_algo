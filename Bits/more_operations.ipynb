{
 "cells": [
  {
   "cell_type": "markdown",
   "id": "ceaea485",
   "metadata": {},
   "source": [
    "## 1. Getting a bit\n",
    "\n",
    "To get a bit from a specific position/index in that binary number this is the step to take: \n",
    "1) You first need to do left shift to binary 1 by that index. This way you create a mask.\n",
    "2) Use this mask to do bitwise AND. We are doing bitwise & because only 1 and 1 is 1 so we will get our answer if a bit is 1 or 0 by doing this.\n",
    "3) After these two steps you need to right shift the bit that you get to know if that bit was 1 or 0. \n"
   ]
  },
  {
   "cell_type": "code",
   "execution_count": 3,
   "id": "353594cb",
   "metadata": {},
   "outputs": [],
   "source": [
    "# Let's write a function that will get a bit from a binary number \n",
    "def getABit(input_binary_number, position):\n",
    "    # left shift this input binary number\n",
    "    mask = (1 << position)\n",
    "\n",
    "    # now do bitwise AND (&) to that input_binary_number\n",
    "    bitwise_AND = input_binary_number & mask \n",
    "\n",
    "    # right shift the result by position again \n",
    "    return bitwise_AND >> position "
   ]
  },
  {
   "cell_type": "markdown",
   "id": "70489b20",
   "metadata": {},
   "source": [
    "Examples: \n",
    "input_binary_number = 0b10110010 \n",
    "position = 3"
   ]
  },
  {
   "cell_type": "code",
   "execution_count": 14,
   "id": "8b628c3f",
   "metadata": {},
   "outputs": [
    {
     "name": "stdout",
     "output_type": "stream",
     "text": [
      "1\n"
     ]
    }
   ],
   "source": [
    "input_number = 0b10110010 \n",
    "position = 7\n",
    "print(getABit(input_number, position))"
   ]
  },
  {
   "cell_type": "markdown",
   "id": "f7f2add1",
   "metadata": {},
   "source": [
    "## 2. Setting a bit\n",
    "\n",
    "To set a bit in a specific position/index in that binary number this is the step to take: \n",
    "1) You first need to do left shift to binary 1 by that index. This way you create a mask.\n",
    "2) Use this mask to do bitwise OR. We are doing bitwise OR(|) because 1 or (1 or 0) is 1 so we will get our answer by doing this.\n",
    "3) After these two steps you need to show the result. \n"
   ]
  },
  {
   "cell_type": "code",
   "execution_count": 15,
   "id": "51cf047f",
   "metadata": {},
   "outputs": [],
   "source": [
    "# so let's write a function that will do this for us \n",
    "def setABit(input_binary_number, position): \n",
    "    # create a mask\n",
    "    mask = 1 << position \n",
    "\n",
    "    # now we have the mask we will do BITWISE OR and return it\n",
    "    return input_binary_number | mask  "
   ]
  },
  {
   "cell_type": "markdown",
   "id": "0c9dbc5f",
   "metadata": {},
   "source": [
    "Examples: \n",
    "input_binary_number = 0b10110010 \n",
    "position = 3"
   ]
  },
  {
   "cell_type": "code",
   "execution_count": 19,
   "id": "e273bb30",
   "metadata": {},
   "outputs": [
    {
     "name": "stdout",
     "output_type": "stream",
     "text": [
      "0b10111010\n"
     ]
    }
   ],
   "source": [
    "input_number = 0b10110010 \n",
    "position = 3\n",
    "print(bin(setABit(input_number, position)))"
   ]
  }
 ],
 "metadata": {
  "kernelspec": {
   "display_name": "Python 3",
   "language": "python",
   "name": "python3"
  },
  "language_info": {
   "codemirror_mode": {
    "name": "ipython",
    "version": 3
   },
   "file_extension": ".py",
   "mimetype": "text/x-python",
   "name": "python",
   "nbconvert_exporter": "python",
   "pygments_lexer": "ipython3",
   "version": "3.11.3"
  }
 },
 "nbformat": 4,
 "nbformat_minor": 5
}
