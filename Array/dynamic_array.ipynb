{
 "cells": [
  {
   "cell_type": "markdown",
   "metadata": {},
   "source": [
    "We will be creating an array with the help of ctypes module. We will create C static array and we will implement the dynamic features."
   ]
  },
  {
   "cell_type": "code",
   "execution_count": null,
   "metadata": {},
   "outputs": [],
   "source": []
  },
  {
   "cell_type": "markdown",
   "metadata": {},
   "source": [
    "Functions we need to implement:\n",
    "\n",
    "- length  \n",
    "- append \n",
    "- print  \n",
    "- indexing  \n",
    "- pop \n",
    "- clear  \n",
    "- find \n",
    "- insert\n",
    "- delete \n",
    "- remove"
   ]
  },
  {
   "cell_type": "markdown",
   "metadata": {},
   "source": [
    "In constructor we will have size, n, and A which stores the size of the array, number of items in the array, and the array itself respectively."
   ]
  },
  {
   "cell_type": "code",
   "execution_count": 59,
   "metadata": {},
   "outputs": [],
   "source": [
    "import ctypes\n",
    "\n",
    "class MyList:\n",
    "\n",
    "    # defining the constructor\n",
    "    def __init__(self):\n",
    "        self.size = 1\n",
    "        self.n = 0\n",
    "        self.A = self.__make_array(self.size)\n",
    "\n",
    "    def __str__(self):\n",
    "        result = \"\"\n",
    "        for i in range(self.n):\n",
    "            result = result + str(self.A[i]) + \",\"\n",
    "\n",
    "        # returns the list in [1, 2, 3] format\n",
    "        return \"[\" + result[:-1] + \"]\"\n",
    "\n",
    "    def __getitem__(self, index):\n",
    "        if (index >= 0 and index < self.n):\n",
    "            return self.A[index] # returns the item at that index \n",
    "        else:\n",
    "            return \"Index Error - Index out of range\"\n",
    "        \n",
    "    def __delitem__(self, index):\n",
    "        if 0 <= index < self.n:\n",
    "            for i in range(index, self.n - 1):\n",
    "                self.A[i] = self.A[i + 1]\n",
    "\n",
    "            self.n = self.n - 1 \n",
    "    \n",
    "    def remove(self, item):\n",
    "        index = self.find(item)\n",
    "        if (type(index) == int):\n",
    "            self.__delitem__(index)\n",
    "        else:\n",
    "            return 'Item not in array'\n",
    "        \n",
    "    def __len__(self):\n",
    "        # returns the size of the array\n",
    "        return self.n\n",
    "\n",
    "    def pop(self): # pops the last item in the list\n",
    "        if self.n == 0:\n",
    "            return \"Empty list\"\n",
    "        \n",
    "        print(self.A[self.n - 1])\n",
    "        self.n = self.n -  1\n",
    "    \n",
    "    def clear(self): # clears the list\n",
    "        self.n = 0\n",
    "        self.size = 1\n",
    "\n",
    "    def find(self, item): # finds the position of an item in the list\n",
    "        for i in range(0, self.n):\n",
    "            if (item == self.A[i]):\n",
    "                return i\n",
    "        \n",
    "        return 'Item does not exist in the list'\n",
    "    \n",
    "    def insert(self, position, item):\n",
    "        # checking if the provided position is out of index\n",
    "        if (position < 0  or position > self.n):\n",
    "            return 'Out of index'\n",
    "        \n",
    "        if self.size == self.n:\n",
    "            self.__resize_array(self.size*2)\n",
    "        \n",
    "        # iterating in reverse\n",
    "        for i in range(self.n, position, -1):\n",
    "            self.A[i] = self.A[i - 1]\n",
    "\n",
    "        self.A[position] = item\n",
    "        self.n = self.n + 1\n",
    "\n",
    "    def __make_array(self, capacity):\n",
    "        # returning the static and referential array\n",
    "        return (capacity*ctypes.py_object)()\n",
    "\n",
    "    def __resize_array(self, newcapacity):\n",
    "        B = self.__make_array(newcapacity) # making a new array whose size is double\n",
    "        self.size = newcapacity \n",
    "\n",
    "        # copying the items from old array to new array\n",
    "        for i in range(self.n):\n",
    "            B[i] = self.A[i]\n",
    "\n",
    "        # reassigning the new array to be B\n",
    "        self.A = B\n",
    "\n",
    "\n",
    "    def append(self, item):\n",
    "        # check if the current size of the array is enough\n",
    "        if self.size == self.n:\n",
    "            # resize\n",
    "            self.__resize_array(self.size*2)\n",
    "        \n",
    "        # put the item in the nth position\n",
    "        self.A[self.n] = item\n",
    "        self.n = self.n + 1"
   ]
  },
  {
   "cell_type": "markdown",
   "metadata": {},
   "source": [
    "Testing "
   ]
  },
  {
   "cell_type": "code",
   "execution_count": 62,
   "metadata": {},
   "outputs": [
    {
     "name": "stdout",
     "output_type": "stream",
     "text": [
      "[14,Hello,45]\n",
      "[14,Hello]\n"
     ]
    }
   ],
   "source": [
    "L = MyList()\n",
    "\n",
    "L.append(14)\n",
    "L.append('Hello')\n",
    "L.append(45)\n",
    "print(L)\n",
    "\n",
    "L.remove(45)\n",
    "print(L)"
   ]
  }
 ],
 "metadata": {
  "kernelspec": {
   "display_name": "Python 3",
   "language": "python",
   "name": "python3"
  },
  "language_info": {
   "codemirror_mode": {
    "name": "ipython",
    "version": 3
   },
   "file_extension": ".py",
   "mimetype": "text/x-python",
   "name": "python",
   "nbconvert_exporter": "python",
   "pygments_lexer": "ipython3",
   "version": "3.11.3"
  }
 },
 "nbformat": 4,
 "nbformat_minor": 2
}
