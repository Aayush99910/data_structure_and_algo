{
 "cells": [
  {
   "cell_type": "markdown",
   "metadata": {},
   "source": [
    "Bubble sort\n",
    "\n",
    "Sorting where we compare adjacent elements and we see if they are in the wrong order. This sorting is not very suitable for large datasets as its average and worst-case time complexity is quite high.\n",
    "\n",
    "- Traverse from left to right and compare adjacent elements and the higher one is placed at right side. (swapping)\n",
    "- In this way, the largest element is moved to the rightmost end at first. \n",
    "- This process is then continued to find the second largest and place it and so on until the data is sorted."
   ]
  },
  {
   "cell_type": "markdown",
   "metadata": {},
   "source": [
    "Bubble sort is not adaptive sorting algorithm but we can make it adaptive by introducing a flag variable. When we loop over every single element and if there is swapping of variables we raise the value of flag by 1. If there is no swapping of any variables then we do not raise the value of flag. And after the loop if the flag variable is still 0 then we just break out of the loop."
   ]
  },
  {
   "cell_type": "code",
   "execution_count": 23,
   "metadata": {},
   "outputs": [],
   "source": [
    "def bubble_sort(arr):\n",
    "    # length of the arr\n",
    "    length = len(arr)\n",
    "\n",
    "    # loop for the passes \n",
    "    for i in range(length - 1):\n",
    "        flag = 0\n",
    "        # loop for the comparison\n",
    "        for j in range(length - 1 - i):\n",
    "            # whenever we find that a item is bigger than the next item we swap\n",
    "            if (arr[j] > arr[j + 1]):\n",
    "                # raising the value of the flag variable\n",
    "                flag += 1\n",
    "                # swapping \n",
    "                arr[j], arr[j+1] = arr[j + 1], arr[j]\n",
    "        \n",
    "        if (flag == 0):\n",
    "            break \n",
    "    \n",
    "    return arr"
   ]
  },
  {
   "cell_type": "code",
   "execution_count": 24,
   "metadata": {},
   "outputs": [
    {
     "name": "stdout",
     "output_type": "stream",
     "text": [
      "0\n"
     ]
    },
    {
     "data": {
      "text/plain": [
       "[1, 2, 3, 5, 9]"
      ]
     },
     "execution_count": 24,
     "metadata": {},
     "output_type": "execute_result"
    }
   ],
   "source": [
    "bubble_sort([1, 2, 3, 5, 9])"
   ]
  },
  {
   "cell_type": "markdown",
   "metadata": {},
   "source": [
    "# 1st pass \n",
    "- Comparison - 4\n",
    "- Swapping - 4\n",
    "- Final array = [5, 2, 1, 3, 9]\n",
    "\n",
    "# 2nd pass\n",
    "- Comparison - 3\n",
    "- Swapping - 3\n",
    "- Final array = [2, 1, 3, 5, 9]\n",
    "\n",
    "# 3rd pass\n",
    "- Comparison - 2\n",
    "- Swapping - 1 / 2\n",
    "- Final array = [1, 2, 3, 5, 9]\n",
    "\n",
    "# 4th pass\n",
    "- Comparison - 1\n",
    "- Swapping - 0 / 1\n",
    "- Final array = [1, 2, 3, 5, 9]"
   ]
  },
  {
   "cell_type": "markdown",
   "metadata": {},
   "source": [
    "Time Complexity of bubble sort is O(n^2) which is not the best sorting algorithm. This is because for the worst case we have to swap every single item in the array which is not suitable for a large datasets.\n",
    "\n",
    "Even the best case of bubble sort is O(n)."
   ]
  },
  {
   "cell_type": "markdown",
   "metadata": {},
   "source": [
    "Space Complexity is 1 as we don't really use any other array or any other memory. We make changes in the given array."
   ]
  },
  {
   "cell_type": "markdown",
   "metadata": {},
   "source": [
    "Bubble sort is a stable sorting algorithm because we dont swap the order of original array.\n",
    "\n",
    "Example:\n",
    "Let's say we have an array [6, 1, 3, r/6/r, 5, 8]\n",
    "r/6/r is 6 but written in that way because we need to identify it.\n",
    "\n",
    "When we sort this array the final array given back by bubble sort is \n",
    "[1, 3, 5, 6, r/6/r, 8] and here the original order of 6 and r/6/r is not changed. Hence, it is stable sorting.\n"
   ]
  }
 ],
 "metadata": {
  "kernelspec": {
   "display_name": "Python 3",
   "language": "python",
   "name": "python3"
  },
  "language_info": {
   "codemirror_mode": {
    "name": "ipython",
    "version": 3
   },
   "file_extension": ".py",
   "mimetype": "text/x-python",
   "name": "python",
   "nbconvert_exporter": "python",
   "pygments_lexer": "ipython3",
   "version": "3.11.3"
  }
 },
 "nbformat": 4,
 "nbformat_minor": 2
}
