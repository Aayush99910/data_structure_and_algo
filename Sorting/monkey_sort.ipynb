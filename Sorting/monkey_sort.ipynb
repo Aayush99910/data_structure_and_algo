{
 "cells": [
  {
   "cell_type": "markdown",
   "metadata": {},
   "source": [
    "Function to know whether a given array is sorted ot not"
   ]
  },
  {
   "cell_type": "code",
   "execution_count": 12,
   "metadata": {},
   "outputs": [],
   "source": [
    "def is_sorted(arr):\n",
    "    sorted = True \n",
    "\n",
    "    for i in range(len(arr) - 1):\n",
    "        if (arr[i] > arr[i+1]):\n",
    "            sorted = False \n",
    "    \n",
    "    return sorted "
   ]
  },
  {
   "cell_type": "code",
   "execution_count": 13,
   "metadata": {},
   "outputs": [
    {
     "data": {
      "text/plain": [
       "False"
      ]
     },
     "execution_count": 13,
     "metadata": {},
     "output_type": "execute_result"
    }
   ],
   "source": [
    "array1 = [1, 2, 3, 100, 4, 5, 6, 7, 8]\n",
    "is_sorted(array1)"
   ]
  },
  {
   "cell_type": "markdown",
   "metadata": {},
   "source": [
    "Monkey sort\n",
    "\n",
    "- Randomly sorting an array and hoping it would be sorted\n",
    "Time complexity is O(infinity)\n",
    "Worst case is O(infinity)\n",
    "Best case is O(1)"
   ]
  },
  {
   "cell_type": "code",
   "execution_count": 14,
   "metadata": {},
   "outputs": [],
   "source": [
    "# Monkey sort\n",
    "import random \n",
    "\n",
    "def monkey_sort(arr):\n",
    "    while (not is_sorted(arr)):\n",
    "        random.shuffle(arr)\n",
    "    \n",
    "    print(arr)"
   ]
  },
  {
   "cell_type": "code",
   "execution_count": 15,
   "metadata": {},
   "outputs": [
    {
     "name": "stdout",
     "output_type": "stream",
     "text": [
      "[2, 3, 6, 7, 8, 54, 235, 239]\n"
     ]
    }
   ],
   "source": [
    "monkey_sort([2, 3, 54, 6, 7, 8, 239, 235])"
   ]
  }
 ],
 "metadata": {
  "kernelspec": {
   "display_name": "Python 3",
   "language": "python",
   "name": "python3"
  },
  "language_info": {
   "codemirror_mode": {
    "name": "ipython",
    "version": 3
   },
   "file_extension": ".py",
   "mimetype": "text/x-python",
   "name": "python",
   "nbconvert_exporter": "python",
   "pygments_lexer": "ipython3",
   "version": "3.11.3"
  }
 },
 "nbformat": 4,
 "nbformat_minor": 2
}
