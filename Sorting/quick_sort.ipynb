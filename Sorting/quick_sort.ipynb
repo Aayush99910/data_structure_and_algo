{
 "cells": [
  {
   "cell_type": "markdown",
   "metadata": {},
   "source": [
    "Quicksort is a divide and conquer algorithm where at first we put all the elements less than pivot element to the left of it and everything that is greater to the right of it. We will repeat this in the left and right subarrays."
   ]
  },
  {
   "cell_type": "markdown",
   "metadata": {},
   "source": [
    "In quicksort we need to implement a partition function which partitions the array into two halfs. The pivot element will be in sorted position and everything in the left half will have elements lesser than pivot element and everything in the right half will have elements greater than pivot element. We will also return a pivot index from this function."
   ]
  },
  {
   "cell_type": "code",
   "execution_count": 2,
   "metadata": {},
   "outputs": [],
   "source": [
    "# Partition function \n",
    "def partition(array: list, start: int, end: int) -> int: \n",
    "  pivotElement = array[end] # we are taking the last element to be the pivot element \n",
    "  pivotIndex = start # wherever the sub array starts at we will have our pivot index at that index \n",
    "\n",
    "  # looping through the array and swapping whenever we find a lesser element than pivot \n",
    "  for i in range(start, end): \n",
    "    if (array[i] < pivotElement):\n",
    "      #Swapping \n",
    "      array[i], array[pivotIndex] = array[pivotIndex], array[i]\n",
    "      pivotIndex += 1\n",
    "\n",
    "  # After we have put everything that is smaller than the pivot element in the left side of it \n",
    "  # we will swap the pivotElement in pivotIndex position \n",
    "  array[pivotIndex], array[end] = array[end], array[pivotIndex]\n",
    "  return pivotIndex"
   ]
  },
  {
   "cell_type": "markdown",
   "metadata": {},
   "source": [
    "Now for our main function we just need to implement the partition in the main array and then do it recursively in the sub left array and sub right array. "
   ]
  },
  {
   "cell_type": "code",
   "execution_count": 3,
   "metadata": {},
   "outputs": [],
   "source": [
    "# QuickSort function \n",
    "def QuickSort(array: list, start: int, end: int) -> None:\n",
    "  # we will only sort if the start index is less than end index \n",
    "  if (start < end):\n",
    "    pi = partition(array, start, end) # we are getting the pivotIndex as assigning that as pi \n",
    "    QuickSort(array, start, pi - 1)\n",
    "    QuickSort(array, pi + 1, end)"
   ]
  },
  {
   "cell_type": "markdown",
   "metadata": {},
   "source": [
    "TRY IT OUT:"
   ]
  },
  {
   "cell_type": "code",
   "execution_count": 8,
   "metadata": {},
   "outputs": [
    {
     "name": "stdout",
     "output_type": "stream",
     "text": [
      "[1, 2, 3, 4, 5, 6, 7, 8, 9, 10]\n"
     ]
    }
   ],
   "source": [
    "arr1 = [6, 5, 3, 9, 10, 2, 7, 8, 4, 1]\n",
    "QuickSort(arr1, 0, len(arr1) - 1)\n",
    "print(arr1) "
   ]
  }
 ],
 "metadata": {
  "kernelspec": {
   "display_name": "Python 3",
   "language": "python",
   "name": "python3"
  },
  "language_info": {
   "codemirror_mode": {
    "name": "ipython",
    "version": 3
   },
   "file_extension": ".py",
   "mimetype": "text/x-python",
   "name": "python",
   "nbconvert_exporter": "python",
   "pygments_lexer": "ipython3",
   "version": "3.8.10"
  }
 },
 "nbformat": 4,
 "nbformat_minor": 2
}
