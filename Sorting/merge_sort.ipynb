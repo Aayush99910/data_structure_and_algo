{
 "cells": [
  {
   "cell_type": "markdown",
   "metadata": {},
   "source": [
    "Read the notes from the copy"
   ]
  },
  {
   "cell_type": "markdown",
   "metadata": {},
   "source": [
    "Algorithm not adaptive and not stable. There is no way we can make it adaptive.\n",
    "\n",
    "Time Complexity of merge sort is O(nlog(n)) which is not good. n comes from comparison and log(n) is the time taken to split the array into sub arrays.\n",
    "\n",
    "Space Complexity is O(2n) when you use an extra array to put the elements in an extra array. \n",
    "\n",
    "If we do inplace changes in the array itself then the space complexity is O(n) as we dont need to have another array to store the sorted elements."
   ]
  },
  {
   "cell_type": "code",
   "execution_count": 2,
   "metadata": {},
   "outputs": [],
   "source": [
    "def merge_sorted(arr1, arr2):\n",
    "    merged = []\n",
    "    i = 0\n",
    "    j = 0\n",
    "\n",
    "    while (i < len(arr1) and j < len(arr2)):\n",
    "        if (arr1[i] < arr2[j]):\n",
    "            merged.append(arr1[i])\n",
    "            i += 1\n",
    "        elif(arr2[j] < arr1[i]):\n",
    "            merged.append(arr2[j])\n",
    "            j += 1\n",
    "        \n",
    "    while (i < len(arr1)):\n",
    "        merged.append(arr1[i])\n",
    "        i += 1\n",
    "    \n",
    "    while (j < len(arr2)):\n",
    "        merged.append(arr2[j])\n",
    "        j += 1\n",
    "    \n",
    "    return merged "
   ]
  },
  {
   "cell_type": "code",
   "execution_count": 3,
   "metadata": {},
   "outputs": [
    {
     "ename": "KeyboardInterrupt",
     "evalue": "",
     "output_type": "error",
     "traceback": [
      "\u001b[1;31m---------------------------------------------------------------------------\u001b[0m",
      "\u001b[1;31mKeyboardInterrupt\u001b[0m                         Traceback (most recent call last)",
      "Cell \u001b[1;32mIn[3], line 1\u001b[0m\n\u001b[1;32m----> 1\u001b[0m \u001b[43mmerge_sorted\u001b[49m\u001b[43m(\u001b[49m\u001b[43m[\u001b[49m\u001b[38;5;241;43m1\u001b[39;49m\u001b[43m,\u001b[49m\u001b[43m \u001b[49m\u001b[38;5;241;43m2\u001b[39;49m\u001b[43m,\u001b[49m\u001b[43m \u001b[49m\u001b[38;5;241;43m4\u001b[39;49m\u001b[43m]\u001b[49m\u001b[43m,\u001b[49m\u001b[43m \u001b[49m\u001b[43m[\u001b[49m\u001b[38;5;241;43m1\u001b[39;49m\u001b[43m,\u001b[49m\u001b[43m \u001b[49m\u001b[38;5;241;43m3\u001b[39;49m\u001b[43m,\u001b[49m\u001b[43m \u001b[49m\u001b[38;5;241;43m5\u001b[39;49m\u001b[43m]\u001b[49m\u001b[43m)\u001b[49m\n",
      "Cell \u001b[1;32mIn[2], line 6\u001b[0m, in \u001b[0;36mmerge_sorted\u001b[1;34m(arr1, arr2)\u001b[0m\n\u001b[0;32m      3\u001b[0m i \u001b[38;5;241m=\u001b[39m \u001b[38;5;241m0\u001b[39m\n\u001b[0;32m      4\u001b[0m j \u001b[38;5;241m=\u001b[39m \u001b[38;5;241m0\u001b[39m\n\u001b[1;32m----> 6\u001b[0m \u001b[38;5;28;01mwhile\u001b[39;00m (i \u001b[38;5;241m<\u001b[39m \u001b[38;5;28mlen\u001b[39m(arr1) \u001b[38;5;129;01mand\u001b[39;00m j \u001b[38;5;241m<\u001b[39m \u001b[38;5;28mlen\u001b[39m(arr2)):\n\u001b[0;32m      7\u001b[0m     \u001b[38;5;28;01mif\u001b[39;00m (arr1[i] \u001b[38;5;241m<\u001b[39m arr2[j]):\n\u001b[0;32m      8\u001b[0m         merged\u001b[38;5;241m.\u001b[39mappend(arr1[i])\n",
      "\u001b[1;31mKeyboardInterrupt\u001b[0m: "
     ]
    }
   ],
   "source": [
    "merge_sorted([1, 2, 4], [1, 3, 5])"
   ]
  },
  {
   "cell_type": "code",
   "execution_count": null,
   "metadata": {},
   "outputs": [],
   "source": [
    "def merge_sort(arr):\n",
    "    # base case\n",
    "    if (len(arr) == 1):\n",
    "        return arr \n",
    "\n",
    "    # dividing the array into left and right side and doing recursion\n",
    "    midpoint = len(arr) // 2\n",
    "\n",
    "    left = arr[:midpoint]\n",
    "    right = arr[midpoint:]\n",
    "\n",
    "    # recurison\n",
    "    sorted_left = merge_sort(left)\n",
    "    sorted_right = merge_sort(right)\n",
    "\n",
    "    return merge_sorted(sorted_left, sorted_right)"
   ]
  },
  {
   "cell_type": "code",
   "execution_count": null,
   "metadata": {},
   "outputs": [],
   "source": [
    "array1 = [9, 8, 7, 1, 3, 2, 5, 4]\n",
    "merge_sort(array1)"
   ]
  },
  {
   "cell_type": "markdown",
   "metadata": {},
   "source": [
    "INPLACE CHANGES"
   ]
  },
  {
   "cell_type": "code",
   "execution_count": null,
   "metadata": {},
   "outputs": [],
   "source": [
    "def merge_sorted(arr1, arr2, arr):\n",
    "    i = 0\n",
    "    j = 0\n",
    "    k = 0\n",
    "\n",
    "    while (i < len(arr1) and j < len(arr2)):\n",
    "        if (arr1[i] < arr2[j]):\n",
    "            arr[k] = arr1[i]\n",
    "            i += 1\n",
    "        elif(arr2[j] < arr1[i]):\n",
    "            arr[k] = arr2[j]\n",
    "            j += 1\n",
    "        k += 1\n",
    "        \n",
    "    while (i < len(arr1)):\n",
    "        arr[k] = arr1[i]\n",
    "        i += 1\n",
    "        k += 1\n",
    "    \n",
    "    while (j < len(arr2)):\n",
    "        arr[k] = arr2[j]\n",
    "        j += 1\n",
    "        k += 1\n",
    "\n",
    "    return "
   ]
  },
  {
   "cell_type": "code",
   "execution_count": null,
   "metadata": {},
   "outputs": [],
   "source": [
    "def merge_sort(arr):\n",
    "    # base case\n",
    "    if (len(arr) == 1):\n",
    "        return arr \n",
    "\n",
    "    # divinding the array into left and right side and doing recursion\n",
    "    midpoint = len(arr) // 2\n",
    "\n",
    "    left = arr[:midpoint]\n",
    "    right = arr[midpoint:]\n",
    "\n",
    "    # recurison\n",
    "    merge_sort(left)\n",
    "    merge_sort(right)\n",
    "\n",
    "    merge_sorted(left, right, arr)"
   ]
  },
  {
   "cell_type": "code",
   "execution_count": null,
   "metadata": {},
   "outputs": [
    {
     "name": "stdout",
     "output_type": "stream",
     "text": [
      "[1, 2, 3, 4, 5, 7, 8, 9]\n"
     ]
    }
   ],
   "source": [
    "array1 = [9, 8, 7, 1, 3, 2, 5, 4]\n",
    "merge_sort(array1)\n",
    "print(array1)"
   ]
  }
 ],
 "metadata": {
  "kernelspec": {
   "display_name": "Python 3",
   "language": "python",
   "name": "python3"
  },
  "language_info": {
   "codemirror_mode": {
    "name": "ipython",
    "version": 3
   },
   "file_extension": ".py",
   "mimetype": "text/x-python",
   "name": "python",
   "nbconvert_exporter": "python",
   "pygments_lexer": "ipython3",
   "version": "3.11.3"
  }
 },
 "nbformat": 4,
 "nbformat_minor": 2
}
