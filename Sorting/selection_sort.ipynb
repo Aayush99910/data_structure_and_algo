{
 "cells": [
  {
   "cell_type": "markdown",
   "metadata": {},
   "source": [
    "# Selection sort \n",
    "- Sorting algorithm where we keep a variable min to track the minimum value in the whole array and put that min value to the front of the array\n",
    "\n",
    "Time Complexity: O(n^2)\n",
    "Space Complexity: O(1)\n",
    "\n",
    "Selection sort is much faster than bubble sort because we dont swap every element in every iteration.\n",
    "\n",
    "You cannot make a selection sort adaptive and there is no way we can make it adaptive. So a selection sort performs bad than a bubble sort in best case scenario.\n",
    "\n",
    "It is not stable too."
   ]
  },
  {
   "cell_type": "code",
   "execution_count": 5,
   "metadata": {},
   "outputs": [
    {
     "name": "stdout",
     "output_type": "stream",
     "text": [
      "[11, 12, 23, 34, 56, 78, 100]\n"
     ]
    }
   ],
   "source": [
    "array = [11, 12, 23, 34, 56, 78, 100]\n",
    "\n",
    "def selection_sort(arr1):\n",
    "    length = len(arr1)\n",
    "    for i in range(length):\n",
    "        min = i\n",
    "        j = i + 1 \n",
    "        while(j < length):\n",
    "            if (arr1[j] < arr1[min]):\n",
    "                min = j \n",
    "            j += 1 \n",
    "        \n",
    "        #swapping\n",
    "        arr1[i], arr1[min] = arr1[min], arr1[i]\n",
    "    \n",
    "    return arr1\n",
    "\n",
    "print(selection_sort(array))"
   ]
  }
 ],
 "metadata": {
  "kernelspec": {
   "display_name": "Python 3",
   "language": "python",
   "name": "python3"
  },
  "language_info": {
   "codemirror_mode": {
    "name": "ipython",
    "version": 3
   },
   "file_extension": ".py",
   "mimetype": "text/x-python",
   "name": "python",
   "nbconvert_exporter": "python",
   "pygments_lexer": "ipython3",
   "version": "3.11.3"
  }
 },
 "nbformat": 4,
 "nbformat_minor": 2
}
