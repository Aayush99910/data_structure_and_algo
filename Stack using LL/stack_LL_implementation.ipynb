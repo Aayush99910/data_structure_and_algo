{
 "cells": [
  {
   "cell_type": "markdown",
   "metadata": {},
   "source": [
    "Class node"
   ]
  },
  {
   "cell_type": "code",
   "execution_count": 251,
   "metadata": {},
   "outputs": [],
   "source": [
    "class Node:\n",
    "    def __init__(self, value):\n",
    "        self.data = value\n",
    "        self.next = None "
   ]
  },
  {
   "cell_type": "code",
   "execution_count": 252,
   "metadata": {},
   "outputs": [],
   "source": [
    "class Stack:\n",
    "    def __init__(self):\n",
    "        self.top = None \n",
    "\n",
    "    def isEmpty(self):\n",
    "        return self.top == None \n",
    "\n",
    "    # pushing the value on top of the stack\n",
    "    def push(self, value):\n",
    "        newNode = Node(value)\n",
    "        newNode.next = self.top \n",
    "        self.top = newNode \n",
    "\n",
    "    def traverse(self):\n",
    "        temp = self.top \n",
    "\n",
    "        while (temp != None):\n",
    "            print(temp.data)\n",
    "            temp = temp.next \n",
    "\n",
    "    def peek(self):\n",
    "        if (self.isEmpty()):\n",
    "            return \"Stack Empty\"\n",
    "        else:\n",
    "            return self.top.data \n",
    "        \n",
    "    def pop(self):\n",
    "        if (self.isEmpty()):\n",
    "            return \"Stack Empty\"\n",
    "        else:\n",
    "            self.top = self.top.next\n",
    "    \n",
    "    def popAndReturnData(self):\n",
    "        if (self.isEmpty()):\n",
    "            return \"Stack Empty\"\n",
    "        else:\n",
    "            data = self.top.data \n",
    "            self.top = self.top.next\n",
    "            return data"
   ]
  },
  {
   "cell_type": "code",
   "execution_count": 253,
   "metadata": {},
   "outputs": [],
   "source": [
    "# string reversal\n",
    "def reverseString(string1):\n",
    "    s = Stack()\n",
    "    for letter in string1: \n",
    "        s.push(letter)\n",
    "        \n",
    "        \n",
    "    reversed_string = \"\"\n",
    "    while (not s.isEmpty()):\n",
    "        reversed_string += str(s.popAndReturnData())\n",
    "\n",
    "    return reversed_string"
   ]
  },
  {
   "cell_type": "code",
   "execution_count": 254,
   "metadata": {},
   "outputs": [],
   "source": [
    "def textEditor(string1, pattern):\n",
    "    # making two stack one for undo function and one for redo function \n",
    "    undoStack = Stack() \n",
    "    redoStack = Stack()\n",
    "\n",
    "    # looping through the string and pushing the letters to undostack\n",
    "    for letter in string1:\n",
    "        undoStack.push(letter)\n",
    "\n",
    "    # looping through the commands\n",
    "    for command in pattern:\n",
    "        # if we have u as our command we pop the data from undoStack and push it to redoStack\n",
    "        if (command == \"u\"):\n",
    "            data = undoStack.popAndReturnData()\n",
    "            redoStack.push(data)\n",
    "        # if we have r as our command we pop the data from redoStack and push it to undoStack\n",
    "        elif(command == \"r\"):\n",
    "            data = redoStack.popAndReturnData()\n",
    "            undoStack.push(data)\n",
    "        else:\n",
    "            return \"Command not understood exiting the program.....\"\n",
    "    \n",
    "    res = \"\"\n",
    "    # print the stack in a string format\n",
    "    while (not undoStack.isEmpty()):\n",
    "        res = undoStack.popAndReturnData() + res\n",
    "    \n",
    "    return res"
   ]
  },
  {
   "cell_type": "code",
   "execution_count": 255,
   "metadata": {},
   "outputs": [
    {
     "data": {
      "text/plain": [
       "'Kathman'"
      ]
     },
     "execution_count": 255,
     "metadata": {},
     "output_type": "execute_result"
    }
   ],
   "source": [
    "s = Stack()\n",
    "textEditor(\"Kathmandu\", \"urururuu\")"
   ]
  }
 ],
 "metadata": {
  "kernelspec": {
   "display_name": "Python 3",
   "language": "python",
   "name": "python3"
  },
  "language_info": {
   "codemirror_mode": {
    "name": "ipython",
    "version": 3
   },
   "file_extension": ".py",
   "mimetype": "text/x-python",
   "name": "python",
   "nbconvert_exporter": "python",
   "pygments_lexer": "ipython3",
   "version": "3.11.3"
  }
 },
 "nbformat": 4,
 "nbformat_minor": 2
}
