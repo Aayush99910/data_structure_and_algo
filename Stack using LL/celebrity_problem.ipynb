{
 "cells": [
  {
   "cell_type": "code",
   "execution_count": 37,
   "metadata": {},
   "outputs": [],
   "source": [
    "class Node:\n",
    "    def __init__(self, value):\n",
    "        self.data = value\n",
    "        self.next = None "
   ]
  },
  {
   "cell_type": "markdown",
   "metadata": {},
   "source": [
    "Basic skeleton code for Stack"
   ]
  },
  {
   "cell_type": "code",
   "execution_count": 38,
   "metadata": {},
   "outputs": [],
   "source": [
    "class Stack:\n",
    "    def __init__(self):\n",
    "        self.top = None \n",
    "\n",
    "    def isEmpty(self):\n",
    "        return self.top == None \n",
    "\n",
    "    # pushing the value on top of the stack\n",
    "    def push(self, value):\n",
    "        newNode = Node(value)\n",
    "        newNode.next = self.top \n",
    "        self.top = newNode \n",
    "\n",
    "    # traverses the stack\n",
    "    def traverse(self):\n",
    "        temp = self.top \n",
    "\n",
    "        while (temp != None):\n",
    "            print(temp.data)\n",
    "            temp = temp.next \n",
    "\n",
    "    # tells whats on the top of the stack\n",
    "    def peek(self):\n",
    "        if (self.isEmpty()):\n",
    "            return \"Stack Empty\"\n",
    "        else:\n",
    "            return self.top.data \n",
    "    \n",
    "    # pops the top most data\n",
    "    def pop(self):\n",
    "        if (self.isEmpty()):\n",
    "            return \"Stack Empty\"\n",
    "        else:\n",
    "            self.top = self.top.next\n",
    "    \n",
    "    # pops the top most data and returns the top element too\n",
    "    def popAndReturnData(self):\n",
    "        if (self.isEmpty()):\n",
    "            return \"Stack Empty\"\n",
    "        else:\n",
    "            data = self.top.data \n",
    "            self.top = self.top.next\n",
    "            return data\n",
    "    \n",
    "    # gives the size of the stack\n",
    "    def size(self):\n",
    "        size_stack = 0\n",
    "        temp = self.top\n",
    "        while (temp != None):\n",
    "            size_stack += 1\n",
    "            temp = temp.next \n",
    "        return size_stack"
   ]
  },
  {
   "cell_type": "code",
   "execution_count": 39,
   "metadata": {},
   "outputs": [],
   "source": [
    "# We are given an array\n",
    "L = [\n",
    "   # 0  1  2  3\n",
    "    [0, 0, 0, 0], # 0\n",
    "    [1, 0, 0, 0], # 1\n",
    "    [1, 0, 0, 0], # 2\n",
    "    [1, 0, 0, 0]  # 3 \n",
    "]\n",
    "\n",
    "def find_the_celebrity(L):\n",
    "    # First we put these index values in a stack so \n",
    "    # we get\n",
    "    # self.top -> 3 -> 2 -> 1 -> 0\n",
    "    s = Stack()\n",
    "    for i in range(len(L)):\n",
    "        s.push(i)\n",
    "\n",
    "    # Now we need to take out the two top most elements in the stack \n",
    "    # and check if the first one knows the second one or vice versa\n",
    "    # whoever seems like a celebrity is again pushed back in the stack\n",
    "    # the other one is discarded\n",
    "    \n",
    "    # checking if the size of the stack is more than or equal to 2\n",
    "    while (s.size() >= 2):\n",
    "        # we store the first and the second element as i and j\n",
    "        i = s.popAndReturnData()\n",
    "        j = s.popAndReturnData()\n",
    "        \n",
    "        # We need to check if i knows j and or j knows i \n",
    "        # if i knows j then j is not a celebrity\n",
    "        # if j knows i then i is not a celebrity \n",
    "        # we accomplish this by doing L[i][j] and if this gives 0 then i doesn't know j hence j is not a celebrity\n",
    "        # if L[i][j] gives 1 then i knows j hence i is not a celebrity\n",
    "        # we then insert the celebrity again in the stack\n",
    "        if (L[i][j] == 0):\n",
    "            # j is not a celebrity\n",
    "            s.push(i)\n",
    "        else:\n",
    "            # i is not a celebrity\n",
    "            s.push(j)\n",
    "\n",
    "    celeb = s.peek()\n",
    "    \n",
    "    # we get the ith position who is known by every other ith position but we need to make sure\n",
    "    # that they don't know anyone else\n",
    "    for i in range(len(L)):\n",
    "        if (i != celeb):\n",
    "            if (L[i][celeb] == 0 or L[celeb][i] == 1):\n",
    "                print(\"No one is celebrity.\")\n",
    "                return \n",
    "    \n",
    "    print(f\"The celebrity is {celeb}.\")"
   ]
  },
  {
   "cell_type": "code",
   "execution_count": 40,
   "metadata": {},
   "outputs": [
    {
     "name": "stdout",
     "output_type": "stream",
     "text": [
      "The celebrity is 0\n"
     ]
    }
   ],
   "source": [
    "find_the_celebrity(L)"
   ]
  }
 ],
 "metadata": {
  "kernelspec": {
   "display_name": "Python 3",
   "language": "python",
   "name": "python3"
  },
  "language_info": {
   "codemirror_mode": {
    "name": "ipython",
    "version": 3
   },
   "file_extension": ".py",
   "mimetype": "text/x-python",
   "name": "python",
   "nbconvert_exporter": "python",
   "pygments_lexer": "ipython3",
   "version": "3.11.3"
  }
 },
 "nbformat": 4,
 "nbformat_minor": 2
}
