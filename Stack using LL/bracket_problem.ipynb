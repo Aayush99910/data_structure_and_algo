{
 "cells": [
  {
   "cell_type": "code",
   "execution_count": 6,
   "metadata": {},
   "outputs": [],
   "source": [
    "class Node:\n",
    "    def __init__(self, value):\n",
    "        self.data = value\n",
    "        self.next = None "
   ]
  },
  {
   "cell_type": "code",
   "execution_count": 7,
   "metadata": {},
   "outputs": [],
   "source": [
    "class Stack:\n",
    "    def __init__(self):\n",
    "        self.top = None \n",
    "\n",
    "    def isEmpty(self):\n",
    "        return self.top == None \n",
    "\n",
    "    # pushing the value on top of the stack\n",
    "    def push(self, value):\n",
    "        newNode = Node(value)\n",
    "        newNode.next = self.top \n",
    "        self.top = newNode \n",
    "\n",
    "    # traverses the stack\n",
    "    def traverse(self):\n",
    "        temp = self.top \n",
    "\n",
    "        while (temp != None):\n",
    "            print(temp.data)\n",
    "            temp = temp.next \n",
    "\n",
    "    # tells whats on the top of the stack\n",
    "    def peek(self):\n",
    "        if (self.isEmpty()):\n",
    "            return \"Stack Empty\"\n",
    "        else:\n",
    "            return self.top.data \n",
    "    \n",
    "    # pops the top most data\n",
    "    def pop(self):\n",
    "        if (self.isEmpty()):\n",
    "            return \"Stack Empty\"\n",
    "        else:\n",
    "            self.top = self.top.next\n",
    "    \n",
    "    # pops the top most data and returns the top element too\n",
    "    def popAndReturnData(self):\n",
    "        if (self.isEmpty()):\n",
    "            return \"Stack Empty\"\n",
    "        else:\n",
    "            data = self.top.data \n",
    "            self.top = self.top.next\n",
    "            return data\n",
    "    \n",
    "    # gives the size of the stack\n",
    "    def size(self):\n",
    "        size_stack = 0\n",
    "        temp = self.top\n",
    "        while (temp != None):\n",
    "            size_stack += 1\n",
    "            temp = temp.next \n",
    "        return size_stack"
   ]
  },
  {
   "cell_type": "code",
   "execution_count": 8,
   "metadata": {},
   "outputs": [],
   "source": [
    "def isBracketsBalanced(equation):\n",
    "    bracketPairs = {\n",
    "        \")\": \"(\",\n",
    "        \"}\": \"{\",\n",
    "        \"]\": \"[\"\n",
    "    }\n",
    "\n",
    "    openingBracketStack = Stack()\n",
    "    for character in equation:\n",
    "        if (character in [\"(\", \"{\", \"[\"]):\n",
    "            openingBracketStack.push(character)\n",
    "        elif (character in [\")\", \"}\", \"]\"]):\n",
    "            if (openingBracketStack.peek() == bracketPairs[character]):\n",
    "                openingBracketStack.pop() \n",
    "            else:\n",
    "                return False \n",
    "        else:\n",
    "            pass \n",
    "    \n",
    "    if (openingBracketStack.size() == 0):\n",
    "        return True \n",
    "    \n",
    "    return False \n"
   ]
  },
  {
   "cell_type": "code",
   "execution_count": 9,
   "metadata": {},
   "outputs": [
    {
     "data": {
      "text/plain": [
       "False"
      ]
     },
     "execution_count": 9,
     "metadata": {},
     "output_type": "execute_result"
    }
   ],
   "source": [
    "isBracketsBalanced(\"])(\")"
   ]
  }
 ],
 "metadata": {
  "kernelspec": {
   "display_name": "Python 3",
   "language": "python",
   "name": "python3"
  },
  "language_info": {
   "codemirror_mode": {
    "name": "ipython",
    "version": 3
   },
   "file_extension": ".py",
   "mimetype": "text/x-python",
   "name": "python",
   "nbconvert_exporter": "python",
   "pygments_lexer": "ipython3",
   "version": "3.11.3"
  }
 },
 "nbformat": 4,
 "nbformat_minor": 2
}
