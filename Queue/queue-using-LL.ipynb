{
 "cells": [
  {
   "cell_type": "code",
   "execution_count": 22,
   "metadata": {},
   "outputs": [],
   "source": [
    "class Node:\n",
    "    def __init__(self, value):\n",
    "        self.data = value\n",
    "        self.next = None "
   ]
  },
  {
   "cell_type": "code",
   "execution_count": 23,
   "metadata": {},
   "outputs": [],
   "source": [
    "class Queue:\n",
    "    # constructor which creates two pointers front and rear\n",
    "    def __init__(self):\n",
    "        self.front = None\n",
    "        self.rear = None \n",
    "\n",
    "    # enqueue which will enter the value at the end of the queue\n",
    "    def enqueue(self, value):\n",
    "        new_node = Node(value)\n",
    "        if (self.front == None and self.rear == None):\n",
    "            self.front = new_node\n",
    "            self.rear = new_node\n",
    "        else:\n",
    "            last_node = self.rear\n",
    "            last_node.next = new_node\n",
    "            self.rear = new_node\n",
    "\n",
    "    # dequeue function which will delete the node from the beginning of the queue\n",
    "    def dequeue(self):\n",
    "        if (self.is_empty()):\n",
    "            return \"Queue is empty\"\n",
    "        else:\n",
    "            self.front = self.front.next \n",
    "    \n",
    "    # traversing the queue\n",
    "    def traverse(self):\n",
    "        temp = self.front \n",
    "\n",
    "        while (temp != None):\n",
    "            print(temp.data, end=\" \")\n",
    "            temp = temp.next \n",
    "    \n",
    "    # function which shows if the queue is empty or not\n",
    "    def is_empty(self):\n",
    "        if (self.front == None and self.rear == None):\n",
    "            return True\n",
    "        \n",
    "        return False \n",
    "    \n",
    "    # function that returns the size of the queue\n",
    "    def size(self):\n",
    "        counter = 0\n",
    "        if (self.is_empty()):\n",
    "            return \"Queue is empty\"\n",
    "        else:\n",
    "            temp = self.front \n",
    "\n",
    "            while (temp != None):\n",
    "                counter += 1\n",
    "                temp = temp.next \n",
    "        \n",
    "        return counter\n",
    "    \n",
    "    # the first most item's data is returned\n",
    "    def front_item(self):\n",
    "        return self.front.data \n",
    "\n",
    "    # the last most node's item data is returned\n",
    "    def last_item(self):\n",
    "        return self.rear.data \n",
    "\n"
   ]
  },
  {
   "cell_type": "code",
   "execution_count": 24,
   "metadata": {},
   "outputs": [
    {
     "name": "stdout",
     "output_type": "stream",
     "text": [
      "2 3 4 False\n"
     ]
    }
   ],
   "source": [
    "q = Queue()\n",
    "q.enqueue(1)\n",
    "q.enqueue(2)\n",
    "q.enqueue(3)\n",
    "q.dequeue()\n",
    "q.enqueue(4)\n",
    "q.traverse()\n",
    "\n",
    "print(q.is_empty())"
   ]
  }
 ],
 "metadata": {
  "kernelspec": {
   "display_name": "Python 3",
   "language": "python",
   "name": "python3"
  },
  "language_info": {
   "codemirror_mode": {
    "name": "ipython",
    "version": 3
   },
   "file_extension": ".py",
   "mimetype": "text/x-python",
   "name": "python",
   "nbconvert_exporter": "python",
   "pygments_lexer": "ipython3",
   "version": "3.11.3"
  }
 },
 "nbformat": 4,
 "nbformat_minor": 2
}
