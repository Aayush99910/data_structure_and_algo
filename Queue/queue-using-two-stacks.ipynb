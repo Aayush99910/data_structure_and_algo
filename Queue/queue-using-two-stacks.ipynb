{
 "cells": [
  {
   "cell_type": "code",
   "execution_count": 68,
   "metadata": {},
   "outputs": [],
   "source": [
    "class Node:\n",
    "    def __init__(self, value):\n",
    "        self.data = value\n",
    "        self.next = None "
   ]
  },
  {
   "cell_type": "code",
   "execution_count": 69,
   "metadata": {},
   "outputs": [],
   "source": [
    "class Stack:\n",
    "    def __init__(self):\n",
    "        self.top = None \n",
    "    \n",
    "    def push(self, value):\n",
    "        new_node = Node(value)\n",
    "        if (self.top != None):\n",
    "            new_node.next = self.top \n",
    "            self.top = new_node\n",
    "        else:\n",
    "            self.top = new_node\n",
    "\n",
    "    def pop(self):\n",
    "        if (self.is_empty()):\n",
    "            return \"Stack is empty\"\n",
    "        else:\n",
    "            self.top = self.top.next \n",
    "        \n",
    "    def is_empty(self):\n",
    "        return self.top == None \n",
    "    \n",
    "    def traverse(self):\n",
    "        temp = self.top \n",
    "\n",
    "        while (temp != None):\n",
    "            print(temp.data, end=\" \")\n",
    "            temp = temp.next "
   ]
  },
  {
   "cell_type": "code",
   "execution_count": 70,
   "metadata": {},
   "outputs": [],
   "source": [
    "class QueueUsingStack():\n",
    "    def __init__(self):\n",
    "        self.s1 = Stack()\n",
    "        self.s2 = Stack()\n",
    "    \n",
    "    def clearS1(self):\n",
    "        self.s1.top = None\n",
    "    \n",
    "    def clearS2(self):\n",
    "        self.s2.top = None\n",
    "    \n",
    "    def __shiftItems(self):\n",
    "        temp = self.s1.top \n",
    "        while (temp != None):\n",
    "            self.s2.push(temp.data)\n",
    "            temp = temp.next\n",
    "    \n",
    "    def enqueue(self, value):\n",
    "        self.s1.push(value)\n",
    "\n",
    "    def dequeue(self):\n",
    "        if (self.s1.is_empty()):\n",
    "            return \"Queue is Empty\"\n",
    "        else:\n",
    "            self.__shiftItems() \n",
    "            \n",
    "            self.s2.pop()\n",
    "            self.clearS1()\n",
    "\n",
    "            temp = self.s2.top \n",
    "            while (temp != None):\n",
    "                self.s1.push(temp.data)\n",
    "                temp = temp.next  \n",
    "\n",
    "        \n",
    "    def traverse(self):\n",
    "        self.clearS2()\n",
    "        self.__shiftItems()\n",
    "        \n",
    "        temp = self.s2.top \n",
    "        while (temp != None):\n",
    "            print(temp.data, end=\" \")\n",
    "            temp = temp.next \n",
    "        \n"
   ]
  },
  {
   "cell_type": "code",
   "execution_count": 71,
   "metadata": {},
   "outputs": [
    {
     "name": "stdout",
     "output_type": "stream",
     "text": [
      "4 5 6 7 "
     ]
    }
   ],
   "source": [
    "sq = QueueUsingStack()\n",
    "sq.enqueue(3)\n",
    "sq.enqueue(4)\n",
    "sq.enqueue(5)\n",
    "sq.enqueue(6)\n",
    "sq.dequeue()\n",
    "sq.enqueue(7)\n",
    "sq.traverse()"
   ]
  }
 ],
 "metadata": {
  "kernelspec": {
   "display_name": "Python 3",
   "language": "python",
   "name": "python3"
  },
  "language_info": {
   "codemirror_mode": {
    "name": "ipython",
    "version": 3
   },
   "file_extension": ".py",
   "mimetype": "text/x-python",
   "name": "python",
   "nbconvert_exporter": "python",
   "pygments_lexer": "ipython3",
   "version": "3.11.3"
  }
 },
 "nbformat": 4,
 "nbformat_minor": 2
}
